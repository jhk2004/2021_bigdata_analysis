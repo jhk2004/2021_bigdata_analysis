{
 "cells": [
  {
   "cell_type": "markdown",
   "metadata": {},
   "source": [
    "# 4. Bar Plot\n",
    "* 막대그래프로 여러개의 값을 비교할 때 유용함\n",
    "* 데이터 : \n",
    "    * 수치형 데이터/ 양적 데이터(numerical data) : 키, 몸무게, IQ, 시력, \n",
    "    * 범주형 데이터(categorical data): 성별, MBTI, 혈액형, 국적, 지역\n",
    "    * x축에는 범주형 데이터, y축에는 수치형 데이터   "
   ]
  },
  {
   "cell_type": "code",
   "execution_count": 1,
   "metadata": {},
   "outputs": [],
   "source": [
    "import numpy as np\n",
    "import pandas as pd\n",
    "import matplotlib.pyplot as plt"
   ]
  },
  {
   "cell_type": "code",
   "execution_count": 9,
   "metadata": {},
   "outputs": [
    {
     "data": {
      "image/png": "[encoded data removed]",
      "text/plain": [
       "<Figure size 432x288 with 1 Axes>"
      ]
     },
     "metadata": {
      "needs_background": "light"
     },
     "output_type": "display_data"
    }
   ],
   "source": [
    "# 년도별 출생자 수 비교 \n",
    "years = ['2018', '2019', '2020']\n",
    "number = [100, 90, 80]\n",
    "# bar(x, height)\n",
    "plt.bar(years,number,width = 0.5)\n",
    "plt.title('년도별 출생자수')\n",
    "plt.xlabel('년도')\n",
    "plt.ylabel('출생자수')\n",
    "plt.show()"
   ]
  },
  {
   "cell_type": "code",
   "execution_count": 12,
   "metadata": {},
   "outputs": [
    {
     "data": {
      "image/png": "[encoded data removed]",
      "text/plain": [
       "<Figure size 432x288 with 1 Axes>"
      ]
     },
     "metadata": {
      "needs_background": "light"
     },
     "output_type": "display_data"
    }
   ],
   "source": [
    "# 수평 막대그래프\n",
    "# barh(y , width , height)\n",
    "plt.barh(years, number, height = 0.5)\n",
    "plt.show()"
   ]
  },
  {
   "cell_type": "code",
   "execution_count": 18,
   "metadata": {},
   "outputs": [
    {
     "data": {
      "image/png": "[encoded data removed]",
      "text/plain": [
       "<Figure size 432x288 with 1 Axes>"
      ]
     },
     "metadata": {
      "needs_background": "light"
     },
     "output_type": "display_data"
    }
   ],
   "source": [
    "# 년도, 성별로 출생자수 비교하기\n",
    "male = [100,90,80]\n",
    "female = [90,80,70]\n",
    "x = np.arange(3)  # 0~2\n",
    "\n",
    "# bar(x, height)\n",
    "plt.bar(x, male, width = 0.6)\n",
    "plt.bar(x, female, width = 0.6)\n",
    "plt.show()"
   ]
  },
  {
   "cell_type": "code",
   "execution_count": 25,
   "metadata": {},
   "outputs": [
    {
     "data": {
      "image/png": "[encoded data removed]",
      "text/plain": [
       "<Figure size 432x288 with 1 Axes>"
      ]
     },
     "metadata": {
      "needs_background": "light"
     },
     "output_type": "display_data"
    }
   ],
   "source": [
    "bar_width = 0.3\n",
    "\n",
    "# bar(x, height)\n",
    "plt.bar(x - bar_width/2, male, width = bar_width)\n",
    "plt.bar(x + bar_width/2, female, width = bar_width)\n",
    "\n",
    "plt.xticks(x, years)\n",
    "plt.legend(['male', 'female'])\n",
    "plt.show()\n"
   ]
  },
  {
   "cell_type": "code",
   "execution_count": null,
   "metadata": {},
   "outputs": [],
   "source": []
  }
 ],
 "metadata": {
  "kernelspec": {
   "display_name": "Python 3",
   "language": "python",
   "name": "python3"
  },
  "language_info": {
   "codemirror_mode": {
    "name": "ipython",
    "version": 3
   },
   "file_extension": ".py",
   "mimetype": "text/x-python",
   "name": "python",
   "nbconvert_exporter": "python",
   "pygments_lexer": "ipython3",
   "version": "3.8.5"
  }
 },
 "nbformat": 4,
 "nbformat_minor": 4
}
